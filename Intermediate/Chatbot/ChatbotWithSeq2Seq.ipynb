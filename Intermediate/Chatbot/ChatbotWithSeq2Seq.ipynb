{
  "nbformat": 4,
  "nbformat_minor": 0,
  "metadata": {
    "colab": {
      "provenance": [],
      "authorship_tag": "ABX9TyOZVr1b7CzXJfdafQVPRsPm"
    },
    "kernelspec": {
      "name": "python3",
      "display_name": "Python 3"
    },
    "language_info": {
      "name": "python"
    }
  },
  "cells": [
    {
      "cell_type": "code",
      "execution_count": 16,
      "metadata": {
        "id": "kp9XLK2FjlM0",
        "colab": {
          "base_uri": "https://localhost:8080/"
        },
        "outputId": "d9b7879c-3946-4c59-b7ad-cbf5168c7fa0"
      },
      "outputs": [
        {
          "output_type": "stream",
          "name": "stdout",
          "text": [
            "3.8.0\n",
            "<class 'keras.src.legacy.preprocessing.text.Tokenizer'>\n"
          ]
        }
      ],
      "source": [
        "import keras\n",
        "from keras.api.layers import Input, LSTM, Dense, Embedding, Attention, Concatenate\n",
        "from keras.api.models import Model\n",
        "from keras.src.legacy.preprocessing.text import Tokenizer\n",
        "from keras.api.preprocessing.sequence import pad_sequences\n",
        "\n",
        "print(keras.__version__)\n",
        "print(Tokenizer)\n"
      ]
    },
    {
      "cell_type": "code",
      "source": [],
      "metadata": {
        "id": "DRk8UjxRllZ0"
      },
      "execution_count": null,
      "outputs": []
    }
  ]
}